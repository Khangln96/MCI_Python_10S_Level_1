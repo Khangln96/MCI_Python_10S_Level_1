{
 "cells": [
  {
   "cell_type": "markdown",
   "metadata": {},
   "source": [
    "[Bài toán giá đất]\n",
    "\n",
    "Ông A có nhu cầu mua nhà mặt tiền/phố tại Quận 9, TP.HCM với mục đích cho thuê mặt bằng kinh doanh. Ông A dự kiến kích thước căn nhà cần mua có chiều dài x rộng tương đương 10.33 x 5.2674 mét. Được biết giá nhà mặt tiền Quận 9 đang trong khoảng 87.5 triệu Đồng/m2.\n",
    "\n",
    "Xin Anh/Chị hãy cho biết:\n",
    "\n",
    "1. Số tiền dự tính mà ông A cần chuẩn bị để mua được mảnh đất mặt bằng như đã định. (đơn vị: triệu Đồng)\n",
    "\n",
    "2. Giả sử thu nhập từ việc cho thuê mặt bằng thu về hằng tháng bằng 45 triệu Đồng, trong thời gian bao lâu ông A có thể hoàn lại vốn mua nhà ban đầu? (đơn vị: năm)"
   ]
  },
  {
   "cell_type": "code",
   "execution_count": 15,
   "metadata": {},
   "outputs": [
    {
     "name": "stdout",
     "output_type": "stream",
     "text": [
      "4761 Triệu đồng\n"
     ]
    }
   ],
   "source": [
    "#câu 1\n",
    "d=float(10.33)\n",
    "r=float(5.2674)\n",
    "s=d*r\n",
    "u_p1=87.5\n",
    "price1=d*r*u_p1\n",
    "print(round(price1),'Triệu đồng')"
   ]
  },
  {
   "cell_type": "code",
   "execution_count": 9,
   "metadata": {},
   "outputs": [
    {
     "name": "stdout",
     "output_type": "stream",
     "text": [
      "Thời gian hoàn vốn:  9 Năm\n"
     ]
    }
   ],
   "source": [
    "#câu 2\n",
    "gia_thue1=int(45)\n",
    "print('Thời gian hoàn vốn: ',round(price1/gia_thue1/12),'Năm')"
   ]
  },
  {
   "cell_type": "markdown",
   "metadata": {},
   "source": [
    "Ngoài cho thuê mặt bằng, ông A còn dự định mua một căn nhà khác trong hẻm/ngõ để kinh doanh phòng trọ sinh viên. Ông A mong muốn hằng tháng thu về 30 triệu Đồng. Hiện tại nhà đất trong hẻm/ngõ ở Quận 9 đang có giá 56.7 triệu/m2, xin Anh/Chị cho biết:\n",
    "\n",
    "3. Nếu thời gian hoàn vốn dự tính là 12 năm, giá của căn nhà hẻm mà ông A đang định mua có giá là bao nhiêu? (đơn vị: triệu Đồng) Giả sử giá cho thuê không tăng theo thời gian.\n",
    "\n",
    "4. Ví dụ, cả 2 loại nhà ông A dự định mua kể trên đều có diện tích 50 mét vuông, để có cùng thời gian hồi vốn là 12 năm, mỗi tháng thu nhập từ dự án cho thuê mặt tiền có nhiều hơn 1.5 lần dự án thuê nhà trọ hay không? Nếu có, nhờ Anh/Chị in ra tỷ lệ chênh lệch giữa thu nhập vừa tính được của 2 căn nhà."
   ]
  },
  {
   "cell_type": "code",
   "execution_count": 12,
   "metadata": {},
   "outputs": [
    {
     "name": "stdout",
     "output_type": "stream",
     "text": [
      "Giá trị căn nhà muốn mua:  4320 Triệu đồng\n"
     ]
    }
   ],
   "source": [
    "#câu 3\n",
    "gia_thue2=30\n",
    "price2=gia_thue2*12*12 #12 năm x 12 tháng\n",
    "print('Giá trị căn nhà muốn mua: ',price2,'Triệu đồng')"
   ]
  },
  {
   "cell_type": "code",
   "execution_count": 20,
   "metadata": {},
   "outputs": [
    {
     "name": "stdout",
     "output_type": "stream",
     "text": [
      "Tỉ lệ chênh lệch là:  1.54\n"
     ]
    }
   ],
   "source": [
    "#câu 4\n",
    "u_p2=56.7 #đơn giá m2\n",
    "gia_thue1_m=(u_p1*50)/(12*12)\n",
    "gia_thue2_m=(u_p2*50)/(12*12)\n",
    "ty_le=gia_thue1_m/gia_thue2_m\n",
    "if ty_le>float(1.5):\n",
    "    print('Tỉ lệ chênh lệch là: ',round(ty_le,2))\n",
    "else: print('Không')"
   ]
  },
  {
   "cell_type": "markdown",
   "metadata": {},
   "source": [
    "Ngoài giá nhà mặt tiền và nhà hẻm/ngõ kể trên, giá mua căn hộ và giá đất nền Quận 9 lần lượt là 31 triệu/m2 và 36,8 triệu/m2.\n",
    "\n",
    "5. Anh/Chị thực hiện tạo 1 dictionary gồm các cặp [tên hình thức nhà đất]: [giá] như đã nêu.\n",
    "Đưa dictionary gán vào biến tên dist9. Đặt tên item tuỳ ý.\n",
    "\n",
    "6. Truy cập và in ra giá của đất nền trong dictionary vừa tạo.\n",
    "\n",
    "7. Giả sử trong 7 năm tới giá nhà mặt tiền gấp ba lần giá căn hộ hiện tại. Anh/Chị sửa lại giá nhà mặt tiền trong dictionary được tạo ở câu 5. theo mức giá mới và in ra toàn bộ dist9 để kiểm tra xem các phần tử đã được như mong muốn chưa."
   ]
  },
  {
   "cell_type": "code",
   "execution_count": 51,
   "metadata": {},
   "outputs": [
    {
     "name": "stdout",
     "output_type": "stream",
     "text": [
      "{'CH': 31, 'DN': 36.8, 'NMT': 87.5, 'NH': 56.7}\n"
     ]
    }
   ],
   "source": [
    "#câu 5\n",
    "dist9={'CH':31,'DN':36.8,'NMT':87.5,'NH':56.7}\n",
    "print(dist9)"
   ]
  },
  {
   "cell_type": "code",
   "execution_count": 48,
   "metadata": {},
   "outputs": [
    {
     "name": "stdout",
     "output_type": "stream",
     "text": [
      "Giá đất nền 36.8 triệu/m2\n"
     ]
    }
   ],
   "source": [
    "#câu 6\n",
    "print('Giá đất nền',dist9['DN'],'triệu/m2')"
   ]
  },
  {
   "cell_type": "code",
   "execution_count": 52,
   "metadata": {},
   "outputs": [
    {
     "name": "stdout",
     "output_type": "stream",
     "text": [
      "{'CH': 31, 'DN': 36.8, 'NMT': 93, 'NH': 56.7}\n"
     ]
    }
   ],
   "source": [
    "dist9['NMT']=31*3\n",
    "print(dist9)"
   ]
  }
 ],
 "metadata": {
  "kernelspec": {
   "display_name": "Python 3",
   "language": "python",
   "name": "python3"
  },
  "language_info": {
   "codemirror_mode": {
    "name": "ipython",
    "version": 3
   },
   "file_extension": ".py",
   "mimetype": "text/x-python",
   "name": "python",
   "nbconvert_exporter": "python",
   "pygments_lexer": "ipython3",
   "version": "3.8.3"
  }
 },
 "nbformat": 4,
 "nbformat_minor": 4
}
